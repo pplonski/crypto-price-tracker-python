{
 "cells": [
  {
   "cell_type": "raw",
   "metadata": {},
   "source": [
    "---\n",
    "title: Check price\n",
    "decription: Check crypto prices\n",
    "schedule: '*/1 * * * *'\n",
    "---"
   ]
  },
  {
   "cell_type": "markdown",
   "metadata": {},
   "source": [
    "## 📈 Crypto price tracker"
   ]
  },
  {
   "cell_type": "code",
   "execution_count": 3,
   "metadata": {},
   "outputs": [],
   "source": [
    "import requests"
   ]
  },
  {
   "cell_type": "code",
   "execution_count": 4,
   "metadata": {},
   "outputs": [],
   "source": [
    "def get_price(symbol):\n",
    "    try:\n",
    "        r = requests.get(f\"https://www.binance.com/api/v3/ticker/price?symbol={symbol}\")\n",
    "        data = r.json()\n",
    "        price = float(data['price'])\n",
    "        return price\n",
    "    except Exception as e:\n",
    "        print({str(e)})\n",
    "    return None"
   ]
  },
  {
   "cell_type": "code",
   "execution_count": 5,
   "metadata": {},
   "outputs": [],
   "source": [
    "crypto_pairs = [\"BTCUSDT\", \"ETHUSDT\", \"NMRUSDT\"]"
   ]
  },
  {
   "cell_type": "code",
   "execution_count": 6,
   "metadata": {},
   "outputs": [
    {
     "name": "stdout",
     "output_type": "stream",
     "text": [
      "BTCUSDT current price 29944.94\n",
      "ETHUSDT current price 2039.66\n",
      "NMRUSDT current price 13.43\n"
     ]
    }
   ],
   "source": [
    "for pair in crypto_pairs:\n",
    "    price = get_price(pair)\n",
    "    print(f\"{pair} current price {price}\")"
   ]
  },
  {
   "cell_type": "code",
   "execution_count": null,
   "metadata": {},
   "outputs": [],
   "source": []
  }
 ],
 "metadata": {
  "kernelspec": {
   "display_name": "trackerenv",
   "language": "python",
   "name": "trackerenv"
  },
  "language_info": {
   "codemirror_mode": {
    "name": "ipython",
    "version": 3
   },
   "file_extension": ".py",
   "mimetype": "text/x-python",
   "name": "python",
   "nbconvert_exporter": "python",
   "pygments_lexer": "ipython3",
   "version": "3.8.10"
  }
 },
 "nbformat": 4,
 "nbformat_minor": 4
}
